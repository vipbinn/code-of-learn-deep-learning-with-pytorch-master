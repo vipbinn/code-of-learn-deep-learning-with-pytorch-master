{
 "cells": [
  {
   "cell_type": "markdown",
   "metadata": {},
   "source": [
    "# Deep Q Networks\n",
    "前面我们介绍了强化学习中的 q-learning，我们知道对于 q-learning，我们需要使用一个 Q 表来存储我们的状态和动作，每次我们使用 agent 不断探索环境来更新 Q 表，最后我们能够根据 Q 表中的状态和动作来选择最优的策略。但是使用这种方式有一个很大的局限性，如果在现实生活中，情况就会变得非常的复杂，我们可能有成千上万个 state，甚至是无穷无尽有可能是无穷无尽的 state，对于这种情况，我们不可能将所有的 state 都用 Q 表来存储，那么我们该如何解决这个问题呢？\n",
    "\n",
    "一个非常简单的办法就是使用深度学习来解决这个问题，所以出现了一种新的网络，叫做 Deep Q Networks，将 Q learning 和 神经网络结合在了一起，对于每一个 state，我们都可以使用神经网络来计算对应动作的值，就不在需要建立一张表格，而且网络更新比表格更新更有效率，获取结果也更加高效。\n",
    "\n",
    "![](https://ws4.sinaimg.cn/large/006tKfTcgy1fni66at6jbj30xo0g1jut.jpg)\n",
    "\n",
    "下面我们使用 open ai gym 环境中的 CartPole 来尝试实现一个简单的 DQN。"
   ]
  },
  {
   "cell_type": "code",
   "execution_count": 1,
   "metadata": {
    "collapsed": true
   },
   "outputs": [],
   "source": [
    "import torch\n",
    "import torch.nn as nn\n",
    "from torch.autograd import Variable\n",
    "import numpy as np\n",
    "import gym"
   ]
  },
  {
   "cell_type": "markdown",
   "metadata": {},
   "source": [
    "定义一些超参数"
   ]
  },
  {
   "cell_type": "code",
   "execution_count": 2,
   "metadata": {
    "collapsed": true
   },
   "outputs": [],
   "source": [
    "batch_size = 32\n",
    "lr = 0.01\n",
    "epsilon = 0.9\n",
    "gamma = 0.9\n",
    "target_replace_iter = 100\n",
    "memory_capacity = 2000\n",
    "env = gym.make('CartPole-v0')\n",
    "env = env.unwrapped\n",
    "n_actions = env.action_space.n\n",
    "n_states = env.observation_space.shape[0]"
   ]
  },
  {
   "cell_type": "code",
   "execution_count": 3,
   "metadata": {},
   "outputs": [
    {
     "name": "stdout",
     "output_type": "stream",
     "text": [
      "number of actions are: 2\n",
      "number of states are: 4\n"
     ]
    }
   ],
   "source": [
    "print('number of actions are: {}'.format(n_actions))\n",
    "print('number of states are: {}'.format(n_states))"
   ]
  },
  {
   "cell_type": "markdown",
   "metadata": {},
   "source": [
    "这里使用 gym 自带的环境，关于 CartPole 的一些参数，我们同样可以像上一节课 MountainCar 一样找到，[地址]( https://github.com/openai/gym/wiki/CartPole-v0) 在这里，通过这里可以看到，这个环境的观测的 4 个值分别是板的位置，板的速度，杆的角度以及杆顶端的速度，我们能够采取的动作就是 2 个，分别是向左移动杆和向右移动杆。\n",
    "\n",
    "本质上，我们其实可以不用关心状态到底是什么，这些状态都可以作为神经网络的输入，输出就是每个动作的 value，可以让神经网络自己学会建立一个类似 Q 表的东西。"
   ]
  },
  {
   "cell_type": "code",
   "execution_count": 4,
   "metadata": {
    "collapsed": true
   },
   "outputs": [],
   "source": [
    "class q_net(nn.Module):\n",
    "    def __init__(self, hidden=50):\n",
    "        super(q_net, self).__init__()\n",
    "        self.fc = nn.Sequential(\n",
    "            nn.Linear(n_states, hidden),\n",
    "            nn.ReLU(True),\n",
    "            nn.Linear(hidden, n_actions)\n",
    "        )\n",
    "        \n",
    "        nn.init.normal(self.fc[0].weight, std=0.1) # 使用标准差是 0.1 的正态分布初始化\n",
    "        nn.init.normal(self.fc[2].weight, std=0.1) # 使用标准差是 0.1 的正态分布初始化\n",
    "        \n",
    "    def forward(self, x):\n",
    "        actions_value = self.fc(x)\n",
    "        return actions_value"
   ]
  },
  {
   "cell_type": "markdown",
   "metadata": {},
   "source": [
    "接下来我们定义一个 DQN 的过程作为一个类，在这个类中，我们会定义 dqn 的学习过程，dqn 的更新过程和之前讲个 q learning 的过程是很相同的\n",
    "\n",
    "![](https://ws1.sinaimg.cn/large/006tNc79ly1fnhl68e9spj30ek0biwfw.jpg)"
   ]
  },
  {
   "cell_type": "markdown",
   "metadata": {},
   "source": [
    "上图中有两个网络，第一个网络叫做 action-value function Q，还有一个网络叫做 target action-value $\\hat{Q}$，第一个网络可以称为 eval net，第二个网络叫做 target net，eval net 每一步都更新参数，而 target net 每过 C 步才更新一次，更新地方式是直接将 eval net 的参数复制到 target net 上，为什么要学习两个网络而不学习一个网络呢？因为 DQN 希望每次更新能够有一定的时间去探索周围的环境而得到更多的信息再来更新，在游戏中的过程是一个时间序列，所以得到的信息是有着时间依赖关系，每次都直接使用序列信息进行更新并不能得到好的结果，所以我们就采用滞后更新的方式，每隔 C 步才真正更新一次参数。\n",
    "\n",
    "DQN 的学习过程也非常简单，我们使用 eval net 作为估计动作的 value，使用 target net 得到动作实际的 value，我们希望估计的 value 能够等于实际的 value，所以可以使用 mse 来作为 loss 函数就可以了。\n",
    "\n",
    "下面我们来实现整个过程"
   ]
  },
  {
   "cell_type": "code",
   "execution_count": 12,
   "metadata": {
    "collapsed": true
   },
   "outputs": [],
   "source": [
    "class DQN(object):\n",
    "    def __init__(self):\n",
    "        self.eval_net, self.target_net = q_net(), q_net()\n",
    "\n",
    "        self.learn_step_counter = 0\n",
    "        self.memory_counter = 0\n",
    "        self.memory = np.zeros((memory_capacity, n_states * 2 + 2)) # 当前的状态和动作，之后的状态和动作\n",
    "        self.optimizer = torch.optim.Adam(self.eval_net.parameters(), lr=lr)\n",
    "        self.criterion = nn.MSELoss()\n",
    " \n",
    "    def choose_action(self, s):\n",
    "        '''\n",
    "        根据输入的状态得到所有可行动作的价值估计\n",
    "        '''\n",
    "        s = Variable(torch.unsqueeze(torch.FloatTensor(s), 0))\n",
    "        # input only one sample\n",
    "        if np.random.uniform() < epsilon:  # greedy 贪婪算法\n",
    "            actions_value = self.eval_net(s)\n",
    "            action = torch.max(actions_value, 1)[1].data[0]\n",
    "        else:  # random 随机选择\n",
    "            action = np.random.randint(0, n_actions)\n",
    "        return action\n",
    "\n",
    "    def store_transition(self, s, a, r, s_):\n",
    "        transition = np.hstack((s, [a, r], s_))\n",
    "        # 用新的记忆替换旧的记忆\n",
    "        index = self.memory_counter % memory_capacity\n",
    "        self.memory[index, :] = transition\n",
    "        self.memory_counter += 1\n",
    "\n",
    "    def learn(self):\n",
    "        # target net 的参数更新\n",
    "        if self.learn_step_counter % target_replace_iter == 0:\n",
    "            self.target_net.load_state_dict(self.eval_net.state_dict())\n",
    "        self.learn_step_counter += 1\n",
    "\n",
    "        # 取样记忆中的经历\n",
    "        sample_index = np.random.choice(memory_capacity, batch_size)\n",
    "        b_memory = self.memory[sample_index, :]\n",
    "        b_s = Variable(torch.FloatTensor(b_memory[:, :n_states]))\n",
    "        b_a = Variable(\n",
    "            torch.LongTensor(b_memory[:, n_states:n_states + 1].astype(int)))\n",
    "        b_r = Variable(\n",
    "            torch.FloatTensor(b_memory[:, n_states + 1:n_states + 2]))\n",
    "        b_s_ = Variable(torch.FloatTensor(b_memory[:, -n_states:]))\n",
    "\n",
    "        # q_eval net 评估状态下动作的 value\n",
    "        q_eval = self.eval_net(b_s).gather(1, b_a)  # shape (batch, 1) 选择对应 action 的动作\n",
    "        q_next = self.target_net(\n",
    "            b_s_).detach()  # detach from graph, don't backpropagate\n",
    "        q_target = b_r + gamma * q_next.max(1)[0].view(batch_size, 1)  # shape (batch, 1)\n",
    "        loss = self.criterion(q_eval, q_target) # mse 作为 loss 函数\n",
    "        # 更新网络\n",
    "        self.optimizer.zero_grad()\n",
    "        loss.backward()\n",
    "        self.optimizer.step()"
   ]
  },
  {
   "cell_type": "code",
   "execution_count": 13,
   "metadata": {
    "collapsed": true
   },
   "outputs": [],
   "source": [
    "dqn_trainer = DQN()"
   ]
  },
  {
   "cell_type": "code",
   "execution_count": 14,
   "metadata": {
    "scrolled": false
   },
   "outputs": [
    {
     "name": "stdout",
     "output_type": "stream",
     "text": [
      "collecting experience ... \n",
      "Ep: 199 | reward: 1.720\n",
      "Ep: 200 | reward: 4.116\n",
      "Ep: 201 | reward: 2.598\n",
      "Ep: 202 | reward: 7.261\n",
      "Ep: 203 | reward: 1.570\n",
      "Ep: 204 | reward: 1.191\n",
      "Ep: 205 | reward: 2.557\n",
      "Ep: 206 | reward: 2.822\n",
      "Ep: 207 | reward: 1.788\n",
      "Ep: 208 | reward: 3.345\n",
      "Ep: 209 | reward: 2.787\n",
      "Ep: 210 | reward: 2.718\n",
      "Ep: 211 | reward: 21.747\n",
      "Ep: 212 | reward: 2.514\n",
      "Ep: 213 | reward: 1.504\n",
      "Ep: 214 | reward: 5.059\n",
      "Ep: 215 | reward: -1.003\n",
      "Ep: 216 | reward: 5.880\n",
      "Ep: 217 | reward: 25.360\n",
      "Ep: 218 | reward: 19.871\n",
      "Ep: 219 | reward: 6.934\n",
      "Ep: 220 | reward: 35.473\n",
      "Ep: 221 | reward: 46.048\n",
      "Ep: 222 | reward: 34.585\n",
      "Ep: 223 | reward: 103.504\n",
      "Ep: 224 | reward: 92.848\n",
      "Ep: 225 | reward: 61.636\n",
      "Ep: 226 | reward: 68.378\n",
      "Ep: 227 | reward: 150.926\n",
      "Ep: 228 | reward: 358.854\n",
      "Ep: 229 | reward: -303.586\n",
      "Ep: 230 | reward: 44.629\n",
      "Ep: 231 | reward: 271.936\n",
      "Ep: 232 | reward: 93.458\n",
      "Ep: 233 | reward: 203.914\n",
      "Ep: 234 | reward: 126.819\n",
      "Ep: 235 | reward: 492.525\n",
      "Ep: 236 | reward: 865.907\n",
      "Ep: 237 | reward: 457.963\n",
      "Ep: 238 | reward: 189.550\n",
      "Ep: 239 | reward: 654.743\n",
      "Ep: 240 | reward: 526.357\n",
      "Ep: 241 | reward: 262.288\n",
      "Ep: 242 | reward: 496.026\n",
      "Ep: 243 | reward: 266.828\n",
      "Ep: 244 | reward: 125.170\n",
      "Ep: 245 | reward: 1129.094\n",
      "Ep: 246 | reward: 1046.364\n",
      "Ep: 247 | reward: 3.924\n",
      "Ep: 248 | reward: 54.877\n",
      "Ep: 249 | reward: 790.436\n",
      "Ep: 250 | reward: 163.135\n",
      "Ep: 251 | reward: 439.592\n",
      "Ep: 252 | reward: 286.395\n",
      "Ep: 253 | reward: 1096.519\n",
      "Ep: 254 | reward: 198.122\n",
      "Ep: 255 | reward: 278.892\n",
      "Ep: 256 | reward: 215.559\n",
      "Ep: 257 | reward: 182.856\n",
      "Ep: 258 | reward: 700.339\n",
      "Ep: 259 | reward: 333.089\n",
      "Ep: 260 | reward: 172.095\n",
      "Ep: 261 | reward: 222.899\n",
      "Ep: 262 | reward: 770.689\n",
      "Ep: 263 | reward: 1006.111\n",
      "Ep: 264 | reward: 680.227\n",
      "Ep: 265 | reward: 313.157\n",
      "Ep: 266 | reward: 445.412\n",
      "Ep: 267 | reward: 254.287\n",
      "Ep: 268 | reward: 286.542\n",
      "Ep: 269 | reward: 137.780\n",
      "Ep: 270 | reward: 240.850\n",
      "Ep: 271 | reward: 173.953\n",
      "Ep: 272 | reward: 929.376\n",
      "Ep: 273 | reward: 1682.483\n",
      "Ep: 274 | reward: 124.281\n",
      "Ep: 275 | reward: 439.573\n",
      "Ep: 276 | reward: 388.455\n",
      "Ep: 277 | reward: 366.418\n",
      "Ep: 278 | reward: 594.223\n",
      "Ep: 279 | reward: 385.194\n",
      "Ep: 280 | reward: 702.398\n",
      "Ep: 281 | reward: 121.711\n",
      "Ep: 282 | reward: 555.598\n",
      "Ep: 283 | reward: 617.005\n",
      "Ep: 284 | reward: 1366.853\n",
      "Ep: 285 | reward: 667.864\n",
      "Ep: 286 | reward: 308.383\n",
      "Ep: 287 | reward: 332.831\n",
      "Ep: 288 | reward: 614.663\n",
      "Ep: 289 | reward: 1077.267\n",
      "Ep: 290 | reward: 385.115\n",
      "Ep: 291 | reward: 375.811\n",
      "Ep: 292 | reward: 183.127\n",
      "Ep: 293 | reward: 132.291\n",
      "Ep: 294 | reward: 161.788\n",
      "Ep: 295 | reward: 133.430\n",
      "Ep: 296 | reward: 455.821\n",
      "Ep: 297 | reward: 392.828\n",
      "Ep: 298 | reward: 172.488\n",
      "Ep: 299 | reward: 756.369\n"
     ]
    }
   ],
   "source": [
    "print('collecting experience ... ')\n",
    "all_reward = []\n",
    "for i_episode in range(300):\n",
    "    s = env.reset()\n",
    "    reward = 0\n",
    "    while True:\n",
    "#         env.render()\n",
    "        a = dqn_trainer.choose_action(s)\n",
    "\n",
    "        # 环境采取动作得到结果\n",
    "        s_, r, done, info = env.step(a)\n",
    "\n",
    "        # 修改奖励以便更快收敛\n",
    "        x, x_dot, theta, theta_dot = s_\n",
    "        r1 = (env.x_threshold - abs(x)) / env.x_threshold - 0.8\n",
    "        r2 = (env.theta_threshold_radians - abs(theta)) / env.theta_threshold_radians - 0.5\n",
    "        r = r1 + r2\n",
    "\n",
    "        dqn_trainer.store_transition(s, a, r, s_)\n",
    "\n",
    "        reward += r\n",
    "        if dqn_trainer.memory_counter > memory_capacity: # 记忆收集够开始学习\n",
    "            dqn_trainer.learn()\n",
    "            if done:\n",
    "                print('Ep: {} | reward: {:.3f}'.format(i_episode, round(reward, 3)))\n",
    "                all_reward.append(reward)\n",
    "                break\n",
    "\n",
    "        if done:\n",
    "            break\n",
    "        s = s_"
   ]
  },
  {
   "cell_type": "code",
   "execution_count": 15,
   "metadata": {
    "collapsed": true
   },
   "outputs": [],
   "source": [
    "import matplotlib.pyplot as plt\n",
    "%matplotlib inline"
   ]
  },
  {
   "cell_type": "code",
   "execution_count": 16,
   "metadata": {},
   "outputs": [
    {
     "data": {
      "text/plain": [
       "[<matplotlib.lines.Line2D at 0x119000ba8>]"
      ]
     },
     "execution_count": 16,
     "metadata": {},
     "output_type": "execute_result"
    },
    {
     "data": {
      "image/png": "[encoded data removed]",
      "text/plain": [
       "<matplotlib.figure.Figure at 0x118591f28>"
      ]
     },
     "metadata": {},
     "output_type": "display_data"
    }
   ],
   "source": [
    "plt.plot(all_reward)"
   ]
  },
  {
   "cell_type": "markdown",
   "metadata": {},
   "source": [
    "我们画出 reward 的曲线，可以发现奖励在不断变多，说明我们的 agent 学得越来越好，同时我们也可以实实在在地看到 agent 玩得怎么样，gym 提供了可视化的过程，但是 notebook 里面没有办法显示，我们可以使用运行 `dqn.py` 来看到 agent 玩的可视化视频。\n",
    "\n",
    "另外，我们这里只使用了简单的多层神经网络来作为 dqn 的网络结构，网络的输入是杆的位置信息和角度等等，我们当然可以使用更加一般的输入，比如说每个状态都是一个图片的输入，那么这种方式更具有一般性，实现上几乎是一模一样，只需要改一改网络结构，同时 gym 中也可以得到每个屏幕的输出，具体可以看看 pytorch 的[官方例子](http://pytorch.org/tutorials/intermediate/reinforcement_q_learning.html#)。"
   ]
  }
 ],
 "metadata": {
  "kernelspec": {
   "display_name": "Python 3",
   "language": "python",
   "name": "python3"
  },
  "language_info": {
   "codemirror_mode": {
    "name": "ipython",
    "version": 3
   },
   "file_extension": ".py",
   "mimetype": "text/x-python",
   "name": "python",
   "nbconvert_exporter": "python",
   "pygments_lexer": "ipython3",
   "version": "3.6.3"
  }
 },
 "nbformat": 4,
 "nbformat_minor": 2
}
